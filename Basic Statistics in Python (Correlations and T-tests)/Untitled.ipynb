{
 "cells": [
  {
   "cell_type": "code",
   "execution_count": 1,
   "id": "0512fb58",
   "metadata": {},
   "outputs": [],
   "source": [
    "import pandas as pd"
   ]
  },
  {
   "cell_type": "code",
   "execution_count": 2,
   "id": "1308b29f",
   "metadata": {},
   "outputs": [
    {
     "data": {
      "text/html": [
       "<div>\n",
       "<style scoped>\n",
       "    .dataframe tbody tr th:only-of-type {\n",
       "        vertical-align: middle;\n",
       "    }\n",
       "\n",
       "    .dataframe tbody tr th {\n",
       "        vertical-align: top;\n",
       "    }\n",
       "\n",
       "    .dataframe thead th {\n",
       "        text-align: right;\n",
       "    }\n",
       "</style>\n",
       "<table border=\"1\" class=\"dataframe\">\n",
       "  <thead>\n",
       "    <tr style=\"text-align: right;\">\n",
       "      <th></th>\n",
       "      <th>Country Name</th>\n",
       "      <th>High-technology exports (% of manufactured exports)</th>\n",
       "      <th>High-technology exports (current US$)</th>\n",
       "      <th>Trademark applications, total</th>\n",
       "      <th>Trademark applications, direct resident</th>\n",
       "      <th>Trademark applications, direct nonresident</th>\n",
       "      <th>Patent applications, residents</th>\n",
       "      <th>Patent applications, nonresidents</th>\n",
       "      <th>Scientific and technical journal articles</th>\n",
       "      <th>Research and development expenditure (% of GDP)</th>\n",
       "    </tr>\n",
       "  </thead>\n",
       "  <tbody>\n",
       "    <tr>\n",
       "      <th>0</th>\n",
       "      <td>Afghanistan</td>\n",
       "      <td>NaN</td>\n",
       "      <td>NaN</td>\n",
       "      <td>NaN</td>\n",
       "      <td>NaN</td>\n",
       "      <td>NaN</td>\n",
       "      <td>NaN</td>\n",
       "      <td>NaN</td>\n",
       "      <td>111.72</td>\n",
       "      <td>NaN</td>\n",
       "    </tr>\n",
       "    <tr>\n",
       "      <th>1</th>\n",
       "      <td>Albania</td>\n",
       "      <td>0.049514</td>\n",
       "      <td>591717.0</td>\n",
       "      <td>3713.0</td>\n",
       "      <td>917.0</td>\n",
       "      <td>2796.0</td>\n",
       "      <td>15.0</td>\n",
       "      <td>3.0</td>\n",
       "      <td>180.36</td>\n",
       "      <td>NaN</td>\n",
       "    </tr>\n",
       "    <tr>\n",
       "      <th>2</th>\n",
       "      <td>Algeria</td>\n",
       "      <td>NaN</td>\n",
       "      <td>NaN</td>\n",
       "      <td>9490.0</td>\n",
       "      <td>5469.0</td>\n",
       "      <td>4021.0</td>\n",
       "      <td>152.0</td>\n",
       "      <td>521.0</td>\n",
       "      <td>5231.44</td>\n",
       "      <td>NaN</td>\n",
       "    </tr>\n",
       "    <tr>\n",
       "      <th>3</th>\n",
       "      <td>American Samoa</td>\n",
       "      <td>NaN</td>\n",
       "      <td>NaN</td>\n",
       "      <td>NaN</td>\n",
       "      <td>NaN</td>\n",
       "      <td>NaN</td>\n",
       "      <td>NaN</td>\n",
       "      <td>NaN</td>\n",
       "      <td>NaN</td>\n",
       "      <td>NaN</td>\n",
       "    </tr>\n",
       "    <tr>\n",
       "      <th>4</th>\n",
       "      <td>Andorra</td>\n",
       "      <td>28.460560</td>\n",
       "      <td>33913480.0</td>\n",
       "      <td>1180.0</td>\n",
       "      <td>256.0</td>\n",
       "      <td>924.0</td>\n",
       "      <td>1.0</td>\n",
       "      <td>10.0</td>\n",
       "      <td>3.60</td>\n",
       "      <td>NaN</td>\n",
       "    </tr>\n",
       "  </tbody>\n",
       "</table>\n",
       "</div>"
      ],
      "text/plain": [
       "     Country Name  High-technology exports (% of manufactured exports)  \\\n",
       "0     Afghanistan                                                NaN     \n",
       "1         Albania                                           0.049514     \n",
       "2         Algeria                                                NaN     \n",
       "3  American Samoa                                                NaN     \n",
       "4         Andorra                                          28.460560     \n",
       "\n",
       "   High-technology exports (current US$)  Trademark applications, total  \\\n",
       "0                                    NaN                            NaN   \n",
       "1                               591717.0                         3713.0   \n",
       "2                                    NaN                         9490.0   \n",
       "3                                    NaN                            NaN   \n",
       "4                             33913480.0                         1180.0   \n",
       "\n",
       "   Trademark applications, direct resident  \\\n",
       "0                                      NaN   \n",
       "1                                    917.0   \n",
       "2                                   5469.0   \n",
       "3                                      NaN   \n",
       "4                                    256.0   \n",
       "\n",
       "   Trademark applications, direct nonresident  Patent applications, residents  \\\n",
       "0                                         NaN                             NaN   \n",
       "1                                      2796.0                            15.0   \n",
       "2                                      4021.0                           152.0   \n",
       "3                                         NaN                             NaN   \n",
       "4                                       924.0                             1.0   \n",
       "\n",
       "   Patent applications, nonresidents  \\\n",
       "0                                NaN   \n",
       "1                                3.0   \n",
       "2                              521.0   \n",
       "3                                NaN   \n",
       "4                               10.0   \n",
       "\n",
       "   Scientific and technical journal articles  \\\n",
       "0                                     111.72   \n",
       "1                                     180.36   \n",
       "2                                    5231.44   \n",
       "3                                        NaN   \n",
       "4                                       3.60   \n",
       "\n",
       "   Research and development expenditure (% of GDP)  \n",
       "0                                              NaN  \n",
       "1                                              NaN  \n",
       "2                                              NaN  \n",
       "3                                              NaN  \n",
       "4                                              NaN  "
      ]
     },
     "execution_count": 2,
     "metadata": {},
     "output_type": "execute_result"
    }
   ],
   "source": [
    "df=pd.read_csv('science_tech_2018.csv')\n",
    "df.head()"
   ]
  },
  {
   "cell_type": "code",
   "execution_count": 4,
   "id": "dd574dec",
   "metadata": {},
   "outputs": [
    {
     "data": {
      "text/plain": [
       "(219, 10)"
      ]
     },
     "execution_count": 4,
     "metadata": {},
     "output_type": "execute_result"
    }
   ],
   "source": [
    "df.shape"
   ]
  },
  {
   "cell_type": "code",
   "execution_count": 5,
   "id": "04951eac",
   "metadata": {},
   "outputs": [
    {
     "data": {
      "text/plain": [
       "2190"
      ]
     },
     "execution_count": 5,
     "metadata": {},
     "output_type": "execute_result"
    }
   ],
   "source": [
    "df.size"
   ]
  },
  {
   "cell_type": "code",
   "execution_count": 8,
   "id": "daf764e0",
   "metadata": {},
   "outputs": [
    {
     "data": {
      "text/plain": [
       "Index(['Country Name', 'High-technology exports (% of manufactured exports)',\n",
       "       'High-technology exports (current US$)',\n",
       "       'Trademark applications, total',\n",
       "       'Trademark applications, direct resident',\n",
       "       'Trademark applications, direct nonresident',\n",
       "       'Patent applications, residents', 'Patent applications, nonresidents',\n",
       "       'Scientific and technical journal articles',\n",
       "       'Research and development expenditure (% of GDP)'],\n",
       "      dtype='object')"
      ]
     },
     "execution_count": 8,
     "metadata": {},
     "output_type": "execute_result"
    }
   ],
   "source": [
    "df.columns"
   ]
  },
  {
   "cell_type": "code",
   "execution_count": 9,
   "id": "0d81771a",
   "metadata": {},
   "outputs": [
    {
     "data": {
      "text/html": [
       "<div>\n",
       "<style scoped>\n",
       "    .dataframe tbody tr th:only-of-type {\n",
       "        vertical-align: middle;\n",
       "    }\n",
       "\n",
       "    .dataframe tbody tr th {\n",
       "        vertical-align: top;\n",
       "    }\n",
       "\n",
       "    .dataframe thead th {\n",
       "        text-align: right;\n",
       "    }\n",
       "</style>\n",
       "<table border=\"1\" class=\"dataframe\">\n",
       "  <thead>\n",
       "    <tr style=\"text-align: right;\">\n",
       "      <th></th>\n",
       "      <th>Country Name</th>\n",
       "      <th>High-technology exports (% of manufactured exports)</th>\n",
       "      <th>High-technology exports (current US$)</th>\n",
       "      <th>Trademark applications, total</th>\n",
       "      <th>Trademark applications, direct resident</th>\n",
       "      <th>Trademark applications, direct nonresident</th>\n",
       "      <th>Patent applications, residents</th>\n",
       "      <th>Patent applications, nonresidents</th>\n",
       "      <th>Scientific and technical journal articles</th>\n",
       "      <th>Research and development expenditure (% of GDP)</th>\n",
       "    </tr>\n",
       "  </thead>\n",
       "  <tbody>\n",
       "    <tr>\n",
       "      <th>0</th>\n",
       "      <td>Afghanistan</td>\n",
       "      <td>NaN</td>\n",
       "      <td>NaN</td>\n",
       "      <td>NaN</td>\n",
       "      <td>NaN</td>\n",
       "      <td>NaN</td>\n",
       "      <td>NaN</td>\n",
       "      <td>NaN</td>\n",
       "      <td>26.30</td>\n",
       "      <td>NaN</td>\n",
       "    </tr>\n",
       "    <tr>\n",
       "      <th>1</th>\n",
       "      <td>Albania</td>\n",
       "      <td>1.328024</td>\n",
       "      <td>10128935.0</td>\n",
       "      <td>3456.0</td>\n",
       "      <td>213.0</td>\n",
       "      <td>3243.0</td>\n",
       "      <td>NaN</td>\n",
       "      <td>361.0</td>\n",
       "      <td>70.35</td>\n",
       "      <td>NaN</td>\n",
       "    </tr>\n",
       "    <tr>\n",
       "      <th>2</th>\n",
       "      <td>Algeria</td>\n",
       "      <td>0.653887</td>\n",
       "      <td>4616076.0</td>\n",
       "      <td>5345.0</td>\n",
       "      <td>NaN</td>\n",
       "      <td>NaN</td>\n",
       "      <td>NaN</td>\n",
       "      <td>NaN</td>\n",
       "      <td>2135.32</td>\n",
       "      <td>NaN</td>\n",
       "    </tr>\n",
       "    <tr>\n",
       "      <th>3</th>\n",
       "      <td>American Samoa</td>\n",
       "      <td>NaN</td>\n",
       "      <td>NaN</td>\n",
       "      <td>NaN</td>\n",
       "      <td>NaN</td>\n",
       "      <td>NaN</td>\n",
       "      <td>NaN</td>\n",
       "      <td>NaN</td>\n",
       "      <td>NaN</td>\n",
       "      <td>NaN</td>\n",
       "    </tr>\n",
       "    <tr>\n",
       "      <th>4</th>\n",
       "      <td>Andorra</td>\n",
       "      <td>12.192161</td>\n",
       "      <td>10402350.0</td>\n",
       "      <td>785.0</td>\n",
       "      <td>243.0</td>\n",
       "      <td>542.0</td>\n",
       "      <td>NaN</td>\n",
       "      <td>NaN</td>\n",
       "      <td>2.55</td>\n",
       "      <td>NaN</td>\n",
       "    </tr>\n",
       "  </tbody>\n",
       "</table>\n",
       "</div>"
      ],
      "text/plain": [
       "     Country Name  High-technology exports (% of manufactured exports)  \\\n",
       "0     Afghanistan                                                NaN     \n",
       "1         Albania                                           1.328024     \n",
       "2         Algeria                                           0.653887     \n",
       "3  American Samoa                                                NaN     \n",
       "4         Andorra                                          12.192161     \n",
       "\n",
       "   High-technology exports (current US$)  Trademark applications, total  \\\n",
       "0                                    NaN                            NaN   \n",
       "1                             10128935.0                         3456.0   \n",
       "2                              4616076.0                         5345.0   \n",
       "3                                    NaN                            NaN   \n",
       "4                             10402350.0                          785.0   \n",
       "\n",
       "   Trademark applications, direct resident  \\\n",
       "0                                      NaN   \n",
       "1                                    213.0   \n",
       "2                                      NaN   \n",
       "3                                      NaN   \n",
       "4                                    243.0   \n",
       "\n",
       "   Trademark applications, direct nonresident  Patent applications, residents  \\\n",
       "0                                         NaN                             NaN   \n",
       "1                                      3243.0                             NaN   \n",
       "2                                         NaN                             NaN   \n",
       "3                                         NaN                             NaN   \n",
       "4                                       542.0                             NaN   \n",
       "\n",
       "   Patent applications, nonresidents  \\\n",
       "0                                NaN   \n",
       "1                              361.0   \n",
       "2                                NaN   \n",
       "3                                NaN   \n",
       "4                                NaN   \n",
       "\n",
       "   Scientific and technical journal articles  \\\n",
       "0                                      26.30   \n",
       "1                                      70.35   \n",
       "2                                    2135.32   \n",
       "3                                        NaN   \n",
       "4                                       2.55   \n",
       "\n",
       "   Research and development expenditure (% of GDP)  \n",
       "0                                              NaN  \n",
       "1                                              NaN  \n",
       "2                                              NaN  \n",
       "3                                              NaN  \n",
       "4                                              NaN  "
      ]
     },
     "execution_count": 9,
     "metadata": {},
     "output_type": "execute_result"
    }
   ],
   "source": [
    "df2=pd.read_csv(\"science_tech_2009.csv\")\n",
    "df2.head()"
   ]
  },
  {
   "cell_type": "code",
   "execution_count": 10,
   "id": "27e7a17e",
   "metadata": {},
   "outputs": [
    {
     "data": {
      "text/plain": [
       "(219, 10)"
      ]
     },
     "execution_count": 10,
     "metadata": {},
     "output_type": "execute_result"
    }
   ],
   "source": [
    "df2.shape"
   ]
  },
  {
   "cell_type": "code",
   "execution_count": 11,
   "id": "be1c6bb1",
   "metadata": {},
   "outputs": [
    {
     "data": {
      "text/plain": [
       "2190"
      ]
     },
     "execution_count": 11,
     "metadata": {},
     "output_type": "execute_result"
    }
   ],
   "source": [
    "df2.size"
   ]
  },
  {
   "cell_type": "code",
   "execution_count": 12,
   "id": "96fae8fe",
   "metadata": {},
   "outputs": [
    {
     "data": {
      "text/plain": [
       "Index(['Country Name', 'High-technology exports (% of manufactured exports)',\n",
       "       'High-technology exports (current US$)',\n",
       "       'Trademark applications, total',\n",
       "       'Trademark applications, direct resident',\n",
       "       'Trademark applications, direct nonresident',\n",
       "       'Patent applications, residents', 'Patent applications, nonresidents',\n",
       "       'Scientific and technical journal articles',\n",
       "       'Research and development expenditure (% of GDP)'],\n",
       "      dtype='object')"
      ]
     },
     "execution_count": 12,
     "metadata": {},
     "output_type": "execute_result"
    }
   ],
   "source": [
    "df2.columns"
   ]
  },
  {
   "cell_type": "code",
   "execution_count": 13,
   "id": "1471ab9f",
   "metadata": {},
   "outputs": [
    {
     "data": {
      "text/html": [
       "<div>\n",
       "<style scoped>\n",
       "    .dataframe tbody tr th:only-of-type {\n",
       "        vertical-align: middle;\n",
       "    }\n",
       "\n",
       "    .dataframe tbody tr th {\n",
       "        vertical-align: top;\n",
       "    }\n",
       "\n",
       "    .dataframe thead th {\n",
       "        text-align: right;\n",
       "    }\n",
       "</style>\n",
       "<table border=\"1\" class=\"dataframe\">\n",
       "  <thead>\n",
       "    <tr style=\"text-align: right;\">\n",
       "      <th></th>\n",
       "      <th>Country Name</th>\n",
       "      <th>High-technology exports (% of manufactured exports)</th>\n",
       "      <th>High-technology exports (current US$)</th>\n",
       "      <th>Trademark applications, total</th>\n",
       "      <th>Trademark applications, direct resident</th>\n",
       "      <th>Trademark applications, direct nonresident</th>\n",
       "      <th>Patent applications, residents</th>\n",
       "      <th>Patent applications, nonresidents</th>\n",
       "      <th>Scientific and technical journal articles</th>\n",
       "      <th>Research and development expenditure (% of GDP)</th>\n",
       "    </tr>\n",
       "  </thead>\n",
       "  <tbody>\n",
       "    <tr>\n",
       "      <th>0</th>\n",
       "      <td>False</td>\n",
       "      <td>True</td>\n",
       "      <td>True</td>\n",
       "      <td>True</td>\n",
       "      <td>True</td>\n",
       "      <td>True</td>\n",
       "      <td>True</td>\n",
       "      <td>True</td>\n",
       "      <td>False</td>\n",
       "      <td>True</td>\n",
       "    </tr>\n",
       "    <tr>\n",
       "      <th>1</th>\n",
       "      <td>False</td>\n",
       "      <td>False</td>\n",
       "      <td>False</td>\n",
       "      <td>False</td>\n",
       "      <td>False</td>\n",
       "      <td>False</td>\n",
       "      <td>False</td>\n",
       "      <td>False</td>\n",
       "      <td>False</td>\n",
       "      <td>True</td>\n",
       "    </tr>\n",
       "    <tr>\n",
       "      <th>2</th>\n",
       "      <td>False</td>\n",
       "      <td>True</td>\n",
       "      <td>True</td>\n",
       "      <td>False</td>\n",
       "      <td>False</td>\n",
       "      <td>False</td>\n",
       "      <td>False</td>\n",
       "      <td>False</td>\n",
       "      <td>False</td>\n",
       "      <td>True</td>\n",
       "    </tr>\n",
       "    <tr>\n",
       "      <th>3</th>\n",
       "      <td>False</td>\n",
       "      <td>True</td>\n",
       "      <td>True</td>\n",
       "      <td>True</td>\n",
       "      <td>True</td>\n",
       "      <td>True</td>\n",
       "      <td>True</td>\n",
       "      <td>True</td>\n",
       "      <td>True</td>\n",
       "      <td>True</td>\n",
       "    </tr>\n",
       "    <tr>\n",
       "      <th>4</th>\n",
       "      <td>False</td>\n",
       "      <td>False</td>\n",
       "      <td>False</td>\n",
       "      <td>False</td>\n",
       "      <td>False</td>\n",
       "      <td>False</td>\n",
       "      <td>False</td>\n",
       "      <td>False</td>\n",
       "      <td>False</td>\n",
       "      <td>True</td>\n",
       "    </tr>\n",
       "    <tr>\n",
       "      <th>...</th>\n",
       "      <td>...</td>\n",
       "      <td>...</td>\n",
       "      <td>...</td>\n",
       "      <td>...</td>\n",
       "      <td>...</td>\n",
       "      <td>...</td>\n",
       "      <td>...</td>\n",
       "      <td>...</td>\n",
       "      <td>...</td>\n",
       "      <td>...</td>\n",
       "    </tr>\n",
       "    <tr>\n",
       "      <th>214</th>\n",
       "      <td>False</td>\n",
       "      <td>False</td>\n",
       "      <td>False</td>\n",
       "      <td>True</td>\n",
       "      <td>True</td>\n",
       "      <td>True</td>\n",
       "      <td>True</td>\n",
       "      <td>True</td>\n",
       "      <td>False</td>\n",
       "      <td>True</td>\n",
       "    </tr>\n",
       "    <tr>\n",
       "      <th>215</th>\n",
       "      <td>False</td>\n",
       "      <td>False</td>\n",
       "      <td>True</td>\n",
       "      <td>False</td>\n",
       "      <td>False</td>\n",
       "      <td>False</td>\n",
       "      <td>False</td>\n",
       "      <td>False</td>\n",
       "      <td>False</td>\n",
       "      <td>False</td>\n",
       "    </tr>\n",
       "    <tr>\n",
       "      <th>216</th>\n",
       "      <td>False</td>\n",
       "      <td>True</td>\n",
       "      <td>True</td>\n",
       "      <td>False</td>\n",
       "      <td>False</td>\n",
       "      <td>False</td>\n",
       "      <td>True</td>\n",
       "      <td>True</td>\n",
       "      <td>False</td>\n",
       "      <td>True</td>\n",
       "    </tr>\n",
       "    <tr>\n",
       "      <th>217</th>\n",
       "      <td>False</td>\n",
       "      <td>False</td>\n",
       "      <td>False</td>\n",
       "      <td>True</td>\n",
       "      <td>True</td>\n",
       "      <td>True</td>\n",
       "      <td>True</td>\n",
       "      <td>True</td>\n",
       "      <td>False</td>\n",
       "      <td>True</td>\n",
       "    </tr>\n",
       "    <tr>\n",
       "      <th>218</th>\n",
       "      <td>False</td>\n",
       "      <td>False</td>\n",
       "      <td>False</td>\n",
       "      <td>True</td>\n",
       "      <td>True</td>\n",
       "      <td>True</td>\n",
       "      <td>True</td>\n",
       "      <td>True</td>\n",
       "      <td>False</td>\n",
       "      <td>True</td>\n",
       "    </tr>\n",
       "  </tbody>\n",
       "</table>\n",
       "<p>219 rows × 10 columns</p>\n",
       "</div>"
      ],
      "text/plain": [
       "     Country Name  High-technology exports (% of manufactured exports)  \\\n",
       "0           False                                               True     \n",
       "1           False                                              False     \n",
       "2           False                                               True     \n",
       "3           False                                               True     \n",
       "4           False                                              False     \n",
       "..            ...                                                ...     \n",
       "214         False                                              False     \n",
       "215         False                                              False     \n",
       "216         False                                               True     \n",
       "217         False                                              False     \n",
       "218         False                                              False     \n",
       "\n",
       "     High-technology exports (current US$)  Trademark applications, total  \\\n",
       "0                                     True                           True   \n",
       "1                                    False                          False   \n",
       "2                                     True                          False   \n",
       "3                                     True                           True   \n",
       "4                                    False                          False   \n",
       "..                                     ...                            ...   \n",
       "214                                  False                           True   \n",
       "215                                   True                          False   \n",
       "216                                   True                          False   \n",
       "217                                  False                           True   \n",
       "218                                  False                           True   \n",
       "\n",
       "     Trademark applications, direct resident  \\\n",
       "0                                       True   \n",
       "1                                      False   \n",
       "2                                      False   \n",
       "3                                       True   \n",
       "4                                      False   \n",
       "..                                       ...   \n",
       "214                                     True   \n",
       "215                                    False   \n",
       "216                                    False   \n",
       "217                                     True   \n",
       "218                                     True   \n",
       "\n",
       "     Trademark applications, direct nonresident  \\\n",
       "0                                          True   \n",
       "1                                         False   \n",
       "2                                         False   \n",
       "3                                          True   \n",
       "4                                         False   \n",
       "..                                          ...   \n",
       "214                                        True   \n",
       "215                                       False   \n",
       "216                                       False   \n",
       "217                                        True   \n",
       "218                                        True   \n",
       "\n",
       "     Patent applications, residents  Patent applications, nonresidents  \\\n",
       "0                              True                               True   \n",
       "1                             False                              False   \n",
       "2                             False                              False   \n",
       "3                              True                               True   \n",
       "4                             False                              False   \n",
       "..                              ...                                ...   \n",
       "214                            True                               True   \n",
       "215                           False                              False   \n",
       "216                            True                               True   \n",
       "217                            True                               True   \n",
       "218                            True                               True   \n",
       "\n",
       "     Scientific and technical journal articles  \\\n",
       "0                                        False   \n",
       "1                                        False   \n",
       "2                                        False   \n",
       "3                                         True   \n",
       "4                                        False   \n",
       "..                                         ...   \n",
       "214                                      False   \n",
       "215                                      False   \n",
       "216                                      False   \n",
       "217                                      False   \n",
       "218                                      False   \n",
       "\n",
       "     Research and development expenditure (% of GDP)  \n",
       "0                                               True  \n",
       "1                                               True  \n",
       "2                                               True  \n",
       "3                                               True  \n",
       "4                                               True  \n",
       "..                                               ...  \n",
       "214                                             True  \n",
       "215                                            False  \n",
       "216                                             True  \n",
       "217                                             True  \n",
       "218                                             True  \n",
       "\n",
       "[219 rows x 10 columns]"
      ]
     },
     "execution_count": 13,
     "metadata": {},
     "output_type": "execute_result"
    }
   ],
   "source": [
    "df.isna()"
   ]
  },
  {
   "cell_type": "code",
   "execution_count": 14,
   "id": "e6b40f59",
   "metadata": {},
   "outputs": [
    {
     "data": {
      "text/plain": [
       "Country Name                                             0\n",
       "High-technology exports (% of manufactured exports)     87\n",
       "High-technology exports (current US$)                   88\n",
       "Trademark applications, total                           86\n",
       "Trademark applications, direct resident                 91\n",
       "Trademark applications, direct nonresident              90\n",
       "Patent applications, residents                         101\n",
       "Patent applications, nonresidents                      100\n",
       "Scientific and technical journal articles               20\n",
       "Research and development expenditure (% of GDP)        146\n",
       "dtype: int64"
      ]
     },
     "execution_count": 14,
     "metadata": {},
     "output_type": "execute_result"
    }
   ],
   "source": [
    "df.isna().sum()"
   ]
  },
  {
   "cell_type": "code",
   "execution_count": 15,
   "id": "f8ce9c48",
   "metadata": {},
   "outputs": [
    {
     "data": {
      "text/plain": [
       "(51, 10)"
      ]
     },
     "execution_count": 15,
     "metadata": {},
     "output_type": "execute_result"
    }
   ],
   "source": [
    "df_new=df.dropna()\n",
    "df_new.shape"
   ]
  },
  {
   "cell_type": "code",
   "execution_count": 17,
   "id": "f5c8eefa",
   "metadata": {},
   "outputs": [
    {
     "data": {
      "text/html": [
       "<style type=\"text/css\">\n",
       "</style>\n",
       "<table id=\"T_23974_\">\n",
       "  <thead>\n",
       "    <tr>\n",
       "      <th class=\"blank level0\" >&nbsp;</th>\n",
       "      <th class=\"col_heading level0 col0\" >High-technology exports (% of manufactured exports)</th>\n",
       "      <th class=\"col_heading level0 col1\" >High-technology exports (current US$)</th>\n",
       "      <th class=\"col_heading level0 col2\" >Trademark applications, total</th>\n",
       "      <th class=\"col_heading level0 col3\" >Trademark applications, direct resident</th>\n",
       "      <th class=\"col_heading level0 col4\" >Trademark applications, direct nonresident</th>\n",
       "      <th class=\"col_heading level0 col5\" >Patent applications, residents</th>\n",
       "      <th class=\"col_heading level0 col6\" >Patent applications, nonresidents</th>\n",
       "      <th class=\"col_heading level0 col7\" >Scientific and technical journal articles</th>\n",
       "      <th class=\"col_heading level0 col8\" >Research and development expenditure (% of GDP)</th>\n",
       "    </tr>\n",
       "  </thead>\n",
       "  <tbody>\n",
       "    <tr>\n",
       "      <th id=\"T_23974_level0_row0\" class=\"row_heading level0 row0\" >count</th>\n",
       "      <td id=\"T_23974_row0_col0\" class=\"data row0 col0\" >51</td>\n",
       "      <td id=\"T_23974_row0_col1\" class=\"data row0 col1\" >51</td>\n",
       "      <td id=\"T_23974_row0_col2\" class=\"data row0 col2\" >51</td>\n",
       "      <td id=\"T_23974_row0_col3\" class=\"data row0 col3\" >51</td>\n",
       "      <td id=\"T_23974_row0_col4\" class=\"data row0 col4\" >51</td>\n",
       "      <td id=\"T_23974_row0_col5\" class=\"data row0 col5\" >51</td>\n",
       "      <td id=\"T_23974_row0_col6\" class=\"data row0 col6\" >51</td>\n",
       "      <td id=\"T_23974_row0_col7\" class=\"data row0 col7\" >51</td>\n",
       "      <td id=\"T_23974_row0_col8\" class=\"data row0 col8\" >51</td>\n",
       "    </tr>\n",
       "    <tr>\n",
       "      <th id=\"T_23974_level0_row1\" class=\"row_heading level0 row1\" >mean</th>\n",
       "      <td id=\"T_23974_row1_col0\" class=\"data row1 col0\" >12</td>\n",
       "      <td id=\"T_23974_row1_col1\" class=\"data row1 col1\" >25,697,867,097</td>\n",
       "      <td id=\"T_23974_row1_col2\" class=\"data row1 col2\" >44,515</td>\n",
       "      <td id=\"T_23974_row1_col3\" class=\"data row1 col3\" >33,921</td>\n",
       "      <td id=\"T_23974_row1_col4\" class=\"data row1 col4\" >10,594</td>\n",
       "      <td id=\"T_23974_row1_col5\" class=\"data row1 col5\" >16,828</td>\n",
       "      <td id=\"T_23974_row1_col6\" class=\"data row1 col6\" >11,187</td>\n",
       "      <td id=\"T_23974_row1_col7\" class=\"data row1 col7\" >30,499</td>\n",
       "      <td id=\"T_23974_row1_col8\" class=\"data row1 col8\" >1</td>\n",
       "    </tr>\n",
       "    <tr>\n",
       "      <th id=\"T_23974_level0_row2\" class=\"row_heading level0 row2\" >std</th>\n",
       "      <td id=\"T_23974_row2_col0\" class=\"data row2 col0\" >8</td>\n",
       "      <td id=\"T_23974_row2_col1\" class=\"data row2 col1\" >48,690,230,336</td>\n",
       "      <td id=\"T_23974_row2_col2\" class=\"data row2 col2\" >85,394</td>\n",
       "      <td id=\"T_23974_row2_col3\" class=\"data row2 col3\" >69,219</td>\n",
       "      <td id=\"T_23974_row2_col4\" class=\"data row2 col4\" >18,797</td>\n",
       "      <td id=\"T_23974_row2_col5\" class=\"data row2 col5\" >56,775</td>\n",
       "      <td id=\"T_23974_row2_col6\" class=\"data row2 col6\" >44,725</td>\n",
       "      <td id=\"T_23974_row2_col7\" class=\"data row2 col7\" >65,091</td>\n",
       "      <td id=\"T_23974_row2_col8\" class=\"data row2 col8\" >1</td>\n",
       "    </tr>\n",
       "    <tr>\n",
       "      <th id=\"T_23974_level0_row3\" class=\"row_heading level0 row3\" >min</th>\n",
       "      <td id=\"T_23974_row3_col0\" class=\"data row3 col0\" >0</td>\n",
       "      <td id=\"T_23974_row3_col1\" class=\"data row3 col1\" >115,051</td>\n",
       "      <td id=\"T_23974_row3_col2\" class=\"data row3 col2\" >1,974</td>\n",
       "      <td id=\"T_23974_row3_col3\" class=\"data row3 col3\" >141</td>\n",
       "      <td id=\"T_23974_row3_col4\" class=\"data row3 col4\" >1,008</td>\n",
       "      <td id=\"T_23974_row3_col5\" class=\"data row3 col5\" >1</td>\n",
       "      <td id=\"T_23974_row3_col6\" class=\"data row3 col6\" >4</td>\n",
       "      <td id=\"T_23974_row3_col7\" class=\"data row3 col7\" >127</td>\n",
       "      <td id=\"T_23974_row3_col8\" class=\"data row3 col8\" >0</td>\n",
       "    </tr>\n",
       "    <tr>\n",
       "      <th id=\"T_23974_level0_row4\" class=\"row_heading level0 row4\" >25%</th>\n",
       "      <td id=\"T_23974_row4_col0\" class=\"data row4 col0\" >5</td>\n",
       "      <td id=\"T_23974_row4_col1\" class=\"data row4 col1\" >433,839,196</td>\n",
       "      <td id=\"T_23974_row4_col2\" class=\"data row4 col2\" >4,203</td>\n",
       "      <td id=\"T_23974_row4_col3\" class=\"data row4 col3\" >1,858</td>\n",
       "      <td id=\"T_23974_row4_col4\" class=\"data row4 col4\" >1,937</td>\n",
       "      <td id=\"T_23974_row4_col5\" class=\"data row4 col5\" >96</td>\n",
       "      <td id=\"T_23974_row4_col6\" class=\"data row4 col6\" >26</td>\n",
       "      <td id=\"T_23974_row4_col7\" class=\"data row4 col7\" >1,416</td>\n",
       "      <td id=\"T_23974_row4_col8\" class=\"data row4 col8\" >0</td>\n",
       "    </tr>\n",
       "    <tr>\n",
       "      <th id=\"T_23974_level0_row5\" class=\"row_heading level0 row5\" >50%</th>\n",
       "      <td id=\"T_23974_row5_col0\" class=\"data row5 col0\" >10</td>\n",
       "      <td id=\"T_23974_row5_col1\" class=\"data row5 col1\" >4,294,542,879</td>\n",
       "      <td id=\"T_23974_row5_col2\" class=\"data row5 col2\" >10,025</td>\n",
       "      <td id=\"T_23974_row5_col3\" class=\"data row5 col3\" >4,711</td>\n",
       "      <td id=\"T_23974_row5_col4\" class=\"data row5 col4\" >3,417</td>\n",
       "      <td id=\"T_23974_row5_col5\" class=\"data row5 col5\" >678</td>\n",
       "      <td id=\"T_23974_row5_col6\" class=\"data row5 col6\" >168</td>\n",
       "      <td id=\"T_23974_row5_col7\" class=\"data row5 col7\" >10,345</td>\n",
       "      <td id=\"T_23974_row5_col8\" class=\"data row5 col8\" >1</td>\n",
       "    </tr>\n",
       "    <tr>\n",
       "      <th id=\"T_23974_level0_row6\" class=\"row_heading level0 row6\" >75%</th>\n",
       "      <td id=\"T_23974_row6_col0\" class=\"data row6 col0\" >17</td>\n",
       "      <td id=\"T_23974_row6_col1\" class=\"data row6 col1\" >21,254,931,313</td>\n",
       "      <td id=\"T_23974_row6_col2\" class=\"data row6 col2\" >40,292</td>\n",
       "      <td id=\"T_23974_row6_col3\" class=\"data row6 col3\" >27,325</td>\n",
       "      <td id=\"T_23974_row6_col4\" class=\"data row6 col4\" >9,829</td>\n",
       "      <td id=\"T_23974_row6_col5\" class=\"data row6 col5\" >1,938</td>\n",
       "      <td id=\"T_23974_row6_col6\" class=\"data row6 col6\" >1,834</td>\n",
       "      <td id=\"T_23974_row6_col7\" class=\"data row6 col7\" >23,684</td>\n",
       "      <td id=\"T_23974_row6_col8\" class=\"data row6 col8\" >2</td>\n",
       "    </tr>\n",
       "    <tr>\n",
       "      <th id=\"T_23974_level0_row7\" class=\"row_heading level0 row7\" >max</th>\n",
       "      <td id=\"T_23974_row7_col0\" class=\"data row7 col0\" >36</td>\n",
       "      <td id=\"T_23974_row7_col1\" class=\"data row7 col1\" >210,082,307,180</td>\n",
       "      <td id=\"T_23974_row7_col2\" class=\"data row7 col2\" >464,786</td>\n",
       "      <td id=\"T_23974_row7_col3\" class=\"data row7 col3\" >342,150</td>\n",
       "      <td id=\"T_23974_row7_col4\" class=\"data row7 col4\" >122,636</td>\n",
       "      <td id=\"T_23974_row7_col5\" class=\"data row7 col5\" >285,095</td>\n",
       "      <td id=\"T_23974_row7_col6\" class=\"data row7 col6\" >312,046</td>\n",
       "      <td id=\"T_23974_row7_col7\" class=\"data row7 col7\" >422,808</td>\n",
       "      <td id=\"T_23974_row7_col8\" class=\"data row7 col8\" >5</td>\n",
       "    </tr>\n",
       "  </tbody>\n",
       "</table>\n"
      ],
      "text/plain": [
       "<pandas.io.formats.style.Styler at 0x23c94758370>"
      ]
     },
     "execution_count": 17,
     "metadata": {},
     "output_type": "execute_result"
    }
   ],
   "source": [
    "pd.set_option('display.float_format',lambda x:'%3f' %x)\n",
    "df_new.describe().style.format(\"{:,.0f}\")"
   ]
  },
  {
   "cell_type": "code",
   "execution_count": 19,
   "id": "08649ade",
   "metadata": {},
   "outputs": [],
   "source": [
    "import matplotlib.pyplot as plt\n",
    "import seaborn as sns"
   ]
  },
  {
   "cell_type": "code",
   "execution_count": 21,
   "id": "3dcc0c68",
   "metadata": {},
   "outputs": [
    {
     "data": {
      "text/plain": [
       "<AxesSubplot:xlabel='High-technology exports (% of manufactured exports)'>"
      ]
     },
     "execution_count": 21,
     "metadata": {},
     "output_type": "execute_result"
    },
    {
     "data": {
      "image/png": "[encoded data removed]",
      "text/plain": [
       "<Figure size 432x288 with 1 Axes>"
      ]
     },
     "metadata": {
      "needs_background": "light"
     },
     "output_type": "display_data"
    }
   ],
   "source": [
    "sns.boxplot(x=df_new['High-technology exports (% of manufactured exports)'])"
   ]
  },
  {
   "cell_type": "code",
   "execution_count": 28,
   "id": "6f225bbc",
   "metadata": {},
   "outputs": [
    {
     "data": {
      "image/png": "[encoded data removed]",
      "text/plain": [
       "<Figure size 720x360 with 1 Axes>"
      ]
     },
     "metadata": {
      "needs_background": "light"
     },
     "output_type": "display_data"
    },
    {
     "data": {
      "image/png": "[encoded data removed]",
      "text/plain": [
       "<Figure size 720x360 with 1 Axes>"
      ]
     },
     "metadata": {
      "needs_background": "light"
     },
     "output_type": "display_data"
    },
    {
     "data": {
      "image/png": "[encoded data removed]",
      "text/plain": [
       "<Figure size 720x360 with 1 Axes>"
      ]
     },
     "metadata": {
      "needs_background": "light"
     },
     "output_type": "display_data"
    },
    {
     "data": {
      "image/png": "[encoded data removed]",
      "text/plain": [
       "<Figure size 720x360 with 1 Axes>"
      ]
     },
     "metadata": {
      "needs_background": "light"
     },
     "output_type": "display_data"
    },
    {
     "data": {
      "image/png": "[encoded data removed]",
      "text/plain": [
       "<Figure size 720x360 with 1 Axes>"
      ]
     },
     "metadata": {
      "needs_background": "light"
     },
     "output_type": "display_data"
    },
    {
     "data": {
      "image/png": "[encoded data removed]",
      "text/plain": [
       "<Figure size 720x360 with 1 Axes>"
      ]
     },
     "metadata": {
      "needs_background": "light"
     },
     "output_type": "display_data"
    },
    {
     "data": {
      "image/png": "[encoded data removed]",
      "text/plain": [
       "<Figure size 720x360 with 1 Axes>"
      ]
     },
     "metadata": {
      "needs_background": "light"
     },
     "output_type": "display_data"
    },
    {
     "data": {
      "image/png": "[encoded data removed]",
      "text/plain": [
       "<Figure size 720x360 with 1 Axes>"
      ]
     },
     "metadata": {
      "needs_background": "light"
     },
     "output_type": "display_data"
    },
    {
     "data": {
      "image/png": "[encoded data removed]",
      "text/plain": [
       "<Figure size 720x360 with 1 Axes>"
      ]
     },
     "metadata": {
      "needs_background": "light"
     },
     "output_type": "display_data"
    }
   ],
   "source": [
    "columns=df_new.columns\n",
    "for i in range(1,len(columns)):\n",
    "    fig=plt.figure(figsize=(10,5))\n",
    "    sns.boxplot(x=df_new[columns[i]])"
   ]
  },
  {
   "cell_type": "code",
   "execution_count": 29,
   "id": "0ac928d3",
   "metadata": {},
   "outputs": [
    {
     "data": {
      "text/plain": [
       "422807.71"
      ]
     },
     "execution_count": 29,
     "metadata": {},
     "output_type": "execute_result"
    }
   ],
   "source": [
    "df_new['Scientific and technical journal articles'].max()"
   ]
  },
  {
   "cell_type": "code",
   "execution_count": 31,
   "id": "86549545",
   "metadata": {},
   "outputs": [
    {
     "data": {
      "text/plain": [
       "8        521.330000\n",
       "11     12362.280000\n",
       "12       761.430000\n",
       "17      1179.810000\n",
       "18     15688.130000\n",
       "24       703.790000\n",
       "28       293.910000\n",
       "29      3311.270000\n",
       "35     59967.790000\n",
       "42      7195.020000\n",
       "48      4276.900000\n",
       "52     15576.600000\n",
       "53     13978.800000\n",
       "58     13326.670000\n",
       "62      1414.720000\n",
       "67     10598.940000\n",
       "68     66352.180000\n",
       "72       550.410000\n",
       "73    104396.120000\n",
       "87      6700.920000\n",
       "88       680.890000\n",
       "89    135787.790000\n",
       "90     26947.570000\n",
       "93      7174.110000\n",
       "95     12234.690000\n",
       "96     71240.280000\n",
       "98     98792.500000\n",
       "100     2367.460000\n",
       "104    66376.170000\n",
       "106     1003.840000\n",
       "109     1417.730000\n",
       "115     2267.300000\n",
       "126      126.940000\n",
       "127    16345.640000\n",
       "129      210.370000\n",
       "131      140.850000\n",
       "147    11802.780000\n",
       "154     1629.880000\n",
       "156    35662.640000\n",
       "157    14294.560000\n",
       "160    10345.010000\n",
       "161    81579.360000\n",
       "173     5321.600000\n",
       "174     3206.150000\n",
       "180    54536.590000\n",
       "188    20420.560000\n",
       "204    10379.890000\n",
       "205     3144.890000\n",
       "206    97680.900000\n",
       "207   422807.710000\n",
       "209      353.910000\n",
       "Name: Scientific and technical journal articles, dtype: float64"
      ]
     },
     "execution_count": 31,
     "metadata": {},
     "output_type": "execute_result"
    }
   ],
   "source": [
    "df_new['Scientific and technical journal articles']"
   ]
  },
  {
   "cell_type": "code",
   "execution_count": null,
   "id": "7cce9e14",
   "metadata": {},
   "outputs": [],
   "source": []
  }
 ],
 "metadata": {
  "kernelspec": {
   "display_name": "Python 3 (ipykernel)",
   "language": "python",
   "name": "python3"
  },
  "language_info": {
   "codemirror_mode": {
    "name": "ipython",
    "version": 3
   },
   "file_extension": ".py",
   "mimetype": "text/x-python",
   "name": "python",
   "nbconvert_exporter": "python",
   "pygments_lexer": "ipython3",
   "version": "3.9.7"
  }
 },
 "nbformat": 4,
 "nbformat_minor": 5
}
